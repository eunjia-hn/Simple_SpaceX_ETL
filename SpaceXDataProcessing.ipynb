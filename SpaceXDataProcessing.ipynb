{
 "cells": [
  {
   "cell_type": "code",
   "execution_count": 1,
   "id": "05d7643d-c7e7-4727-9b21-aa682fb37546",
   "metadata": {},
   "outputs": [],
   "source": [
    "# importing libraries\n",
    "import requests\n",
    "import json\n",
    "import pandas as pd"
   ]
  },
  {
   "cell_type": "code",
   "execution_count": 2,
   "id": "97e92992-7d26-421a-b760-759ddb6754e4",
   "metadata": {},
   "outputs": [],
   "source": [
    "# function to connect and call api \n",
    "def getjsondata(url):\n",
    "    response = requests.get(url)\n",
    "    json = response.json()\n",
    "    return json"
   ]
  },
  {
   "cell_type": "code",
   "execution_count": 9,
   "id": "ca90225d-5aa9-4f03-8923-0d8912dd700e",
   "metadata": {},
   "outputs": [],
   "source": [
    "# function to connect and call api \n",
    "def getdata(url):\n",
    "    response = requests.get(url)\n",
    "    json = response.json()\n",
    "    df = pd.json_normalize(json, max_level=20)\n",
    "    return df"
   ]
  },
  {
   "cell_type": "code",
   "execution_count": 10,
   "id": "144b9e77-c11c-45e0-bb8f-44c68adfaf4d",
   "metadata": {},
   "outputs": [],
   "source": [
    "ships_json = getjsondata(\"https://api.spacexdata.com/v4/ships\")\n",
    "\n",
    "launches = getdata(\"https://api.spacexdata.com/v4/launches\")\n",
    "rockets = getdata(\"https://api.spacexdata.com/v4/rockets\")\n",
    "payloads = getdata(\"https://api.spacexdata.com/v4/payloads\")"
   ]
  },
  {
   "cell_type": "code",
   "execution_count": 11,
   "id": "39bc9eb5-7643-4b8f-8256-86efafae7239",
   "metadata": {},
   "outputs": [],
   "source": [
    "ships = pd.json_normalize(ships_json, record_path='launches', meta=['name', 'id'], record_prefix='launches')\n",
    "ships.to_csv('data/ships.csv')"
   ]
  },
  {
   "cell_type": "code",
   "execution_count": 12,
   "id": "eb0f49a9-26e4-4dbc-bbba-d3baccb87930",
   "metadata": {},
   "outputs": [],
   "source": [
    "launches.to_csv('data/launches.csv')\n",
    "rockets.to_csv('data/rockets.csv')\n",
    "payloads.to_csv('data/payloads.csv')"
   ]
  }
 ],
 "metadata": {
  "kernelspec": {
   "display_name": "Python 3 (ipykernel)",
   "language": "python",
   "name": "python3"
  },
  "language_info": {
   "codemirror_mode": {
    "name": "ipython",
    "version": 3
   },
   "file_extension": ".py",
   "mimetype": "text/x-python",
   "name": "python",
   "nbconvert_exporter": "python",
   "pygments_lexer": "ipython3",
   "version": "3.9.7"
  }
 },
 "nbformat": 4,
 "nbformat_minor": 5
}
